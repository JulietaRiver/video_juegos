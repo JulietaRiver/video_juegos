{
 "cells": [
  {
   "cell_type": "markdown",
   "metadata": {},
   "source": [
    "Introuducción del proyecto:\n",
    "Las consolas de los juegos marcaron una pauta importante para el desarrollo en video juegos\n",
    "Se analizará y se observará qué marcas fueron las revolucionarias y en qué países se obtuvieron más ventas para predecir las ventas de 2017.\n",
    "objetivos:\n",
    "\n",
    "Determinar las cinco plataformas principales\n",
    "Determinar los cinco géneros principales\n",
    "Determinar si  las clasificaciones de ESRB afectan a las ventas en regiones individuales."
   ]
  },
  {
   "cell_type": "code",
   "execution_count": 1,
   "metadata": {
    "tags": [
     "e5c1f0c2-db9f-43a0-99b9-4875c52427e8"
    ],
    "trusted": true
   },
   "outputs": [],
   "source": [
    "# Importa pandas para el manejo de los DataFrame\n",
    "import pandas as pd\n",
    "# Importa numpy para\n",
    "import numpy as np\n",
    "import matplotlib.pyplot as plt\n",
    "from scipy import stats as st"
   ]
  },
  {
   "cell_type": "code",
   "execution_count": 2,
   "metadata": {
    "trusted": true
   },
   "outputs": [],
   "source": [
    "#cargar los datos:\n",
    "data_games = pd.read_csv(\"/datasets/games.csv\")"
   ]
  },
  {
   "cell_type": "code",
   "execution_count": 3,
   "metadata": {
    "scrolled": true,
    "trusted": true
   },
   "outputs": [
    {
     "name": "stdout",
     "output_type": "stream",
     "text": [
      "<class 'pandas.core.frame.DataFrame'>\n",
      "RangeIndex: 16715 entries, 0 to 16714\n",
      "Data columns (total 11 columns):\n",
      " #   Column           Non-Null Count  Dtype  \n",
      "---  ------           --------------  -----  \n",
      " 0   Name             16713 non-null  object \n",
      " 1   Platform         16715 non-null  object \n",
      " 2   Year_of_Release  16446 non-null  float64\n",
      " 3   Genre            16713 non-null  object \n",
      " 4   NA_sales         16715 non-null  float64\n",
      " 5   EU_sales         16715 non-null  float64\n",
      " 6   JP_sales         16715 non-null  float64\n",
      " 7   Other_sales      16715 non-null  float64\n",
      " 8   Critic_Score     8137 non-null   float64\n",
      " 9   User_Score       10014 non-null  object \n",
      " 10  Rating           9949 non-null   object \n",
      "dtypes: float64(6), object(5)\n",
      "memory usage: 1.4+ MB\n"
     ]
    }
   ],
   "source": [
    "#visualizacion de los datos\n",
    "data_games.info()"
   ]
  },
  {
   "cell_type": "code",
   "execution_count": 4,
   "metadata": {
    "scrolled": true,
    "trusted": true
   },
   "outputs": [
    {
     "data": {
      "text/html": [
       "<div>\n",
       "<style scoped>\n",
       "    .dataframe tbody tr th:only-of-type {\n",
       "        vertical-align: middle;\n",
       "    }\n",
       "\n",
       "    .dataframe tbody tr th {\n",
       "        vertical-align: top;\n",
       "    }\n",
       "\n",
       "    .dataframe thead th {\n",
       "        text-align: right;\n",
       "    }\n",
       "</style>\n",
       "<table border=\"1\" class=\"dataframe\">\n",
       "  <thead>\n",
       "    <tr style=\"text-align: right;\">\n",
       "      <th></th>\n",
       "      <th>Name</th>\n",
       "      <th>Platform</th>\n",
       "      <th>Year_of_Release</th>\n",
       "      <th>Genre</th>\n",
       "      <th>NA_sales</th>\n",
       "      <th>EU_sales</th>\n",
       "      <th>JP_sales</th>\n",
       "      <th>Other_sales</th>\n",
       "      <th>Critic_Score</th>\n",
       "      <th>User_Score</th>\n",
       "      <th>Rating</th>\n",
       "    </tr>\n",
       "  </thead>\n",
       "  <tbody>\n",
       "    <tr>\n",
       "      <th>0</th>\n",
       "      <td>Wii Sports</td>\n",
       "      <td>Wii</td>\n",
       "      <td>2006.0</td>\n",
       "      <td>Sports</td>\n",
       "      <td>41.36</td>\n",
       "      <td>28.96</td>\n",
       "      <td>3.77</td>\n",
       "      <td>8.45</td>\n",
       "      <td>76.0</td>\n",
       "      <td>8</td>\n",
       "      <td>E</td>\n",
       "    </tr>\n",
       "    <tr>\n",
       "      <th>1</th>\n",
       "      <td>Super Mario Bros.</td>\n",
       "      <td>NES</td>\n",
       "      <td>1985.0</td>\n",
       "      <td>Platform</td>\n",
       "      <td>29.08</td>\n",
       "      <td>3.58</td>\n",
       "      <td>6.81</td>\n",
       "      <td>0.77</td>\n",
       "      <td>NaN</td>\n",
       "      <td>NaN</td>\n",
       "      <td>NaN</td>\n",
       "    </tr>\n",
       "    <tr>\n",
       "      <th>2</th>\n",
       "      <td>Mario Kart Wii</td>\n",
       "      <td>Wii</td>\n",
       "      <td>2008.0</td>\n",
       "      <td>Racing</td>\n",
       "      <td>15.68</td>\n",
       "      <td>12.76</td>\n",
       "      <td>3.79</td>\n",
       "      <td>3.29</td>\n",
       "      <td>82.0</td>\n",
       "      <td>8.3</td>\n",
       "      <td>E</td>\n",
       "    </tr>\n",
       "    <tr>\n",
       "      <th>3</th>\n",
       "      <td>Wii Sports Resort</td>\n",
       "      <td>Wii</td>\n",
       "      <td>2009.0</td>\n",
       "      <td>Sports</td>\n",
       "      <td>15.61</td>\n",
       "      <td>10.93</td>\n",
       "      <td>3.28</td>\n",
       "      <td>2.95</td>\n",
       "      <td>80.0</td>\n",
       "      <td>8</td>\n",
       "      <td>E</td>\n",
       "    </tr>\n",
       "    <tr>\n",
       "      <th>4</th>\n",
       "      <td>Pokemon Red/Pokemon Blue</td>\n",
       "      <td>GB</td>\n",
       "      <td>1996.0</td>\n",
       "      <td>Role-Playing</td>\n",
       "      <td>11.27</td>\n",
       "      <td>8.89</td>\n",
       "      <td>10.22</td>\n",
       "      <td>1.00</td>\n",
       "      <td>NaN</td>\n",
       "      <td>NaN</td>\n",
       "      <td>NaN</td>\n",
       "    </tr>\n",
       "    <tr>\n",
       "      <th>...</th>\n",
       "      <td>...</td>\n",
       "      <td>...</td>\n",
       "      <td>...</td>\n",
       "      <td>...</td>\n",
       "      <td>...</td>\n",
       "      <td>...</td>\n",
       "      <td>...</td>\n",
       "      <td>...</td>\n",
       "      <td>...</td>\n",
       "      <td>...</td>\n",
       "      <td>...</td>\n",
       "    </tr>\n",
       "    <tr>\n",
       "      <th>16710</th>\n",
       "      <td>Samurai Warriors: Sanada Maru</td>\n",
       "      <td>PS3</td>\n",
       "      <td>2016.0</td>\n",
       "      <td>Action</td>\n",
       "      <td>0.00</td>\n",
       "      <td>0.00</td>\n",
       "      <td>0.01</td>\n",
       "      <td>0.00</td>\n",
       "      <td>NaN</td>\n",
       "      <td>NaN</td>\n",
       "      <td>NaN</td>\n",
       "    </tr>\n",
       "    <tr>\n",
       "      <th>16711</th>\n",
       "      <td>LMA Manager 2007</td>\n",
       "      <td>X360</td>\n",
       "      <td>2006.0</td>\n",
       "      <td>Sports</td>\n",
       "      <td>0.00</td>\n",
       "      <td>0.01</td>\n",
       "      <td>0.00</td>\n",
       "      <td>0.00</td>\n",
       "      <td>NaN</td>\n",
       "      <td>NaN</td>\n",
       "      <td>NaN</td>\n",
       "    </tr>\n",
       "    <tr>\n",
       "      <th>16712</th>\n",
       "      <td>Haitaka no Psychedelica</td>\n",
       "      <td>PSV</td>\n",
       "      <td>2016.0</td>\n",
       "      <td>Adventure</td>\n",
       "      <td>0.00</td>\n",
       "      <td>0.00</td>\n",
       "      <td>0.01</td>\n",
       "      <td>0.00</td>\n",
       "      <td>NaN</td>\n",
       "      <td>NaN</td>\n",
       "      <td>NaN</td>\n",
       "    </tr>\n",
       "    <tr>\n",
       "      <th>16713</th>\n",
       "      <td>Spirits &amp; Spells</td>\n",
       "      <td>GBA</td>\n",
       "      <td>2003.0</td>\n",
       "      <td>Platform</td>\n",
       "      <td>0.01</td>\n",
       "      <td>0.00</td>\n",
       "      <td>0.00</td>\n",
       "      <td>0.00</td>\n",
       "      <td>NaN</td>\n",
       "      <td>NaN</td>\n",
       "      <td>NaN</td>\n",
       "    </tr>\n",
       "    <tr>\n",
       "      <th>16714</th>\n",
       "      <td>Winning Post 8 2016</td>\n",
       "      <td>PSV</td>\n",
       "      <td>2016.0</td>\n",
       "      <td>Simulation</td>\n",
       "      <td>0.00</td>\n",
       "      <td>0.00</td>\n",
       "      <td>0.01</td>\n",
       "      <td>0.00</td>\n",
       "      <td>NaN</td>\n",
       "      <td>NaN</td>\n",
       "      <td>NaN</td>\n",
       "    </tr>\n",
       "  </tbody>\n",
       "</table>\n",
       "<p>16715 rows × 11 columns</p>\n",
       "</div>"
      ],
      "text/plain": [
       "                                Name Platform  Year_of_Release         Genre  \\\n",
       "0                         Wii Sports      Wii           2006.0        Sports   \n",
       "1                  Super Mario Bros.      NES           1985.0      Platform   \n",
       "2                     Mario Kart Wii      Wii           2008.0        Racing   \n",
       "3                  Wii Sports Resort      Wii           2009.0        Sports   \n",
       "4           Pokemon Red/Pokemon Blue       GB           1996.0  Role-Playing   \n",
       "...                              ...      ...              ...           ...   \n",
       "16710  Samurai Warriors: Sanada Maru      PS3           2016.0        Action   \n",
       "16711               LMA Manager 2007     X360           2006.0        Sports   \n",
       "16712        Haitaka no Psychedelica      PSV           2016.0     Adventure   \n",
       "16713               Spirits & Spells      GBA           2003.0      Platform   \n",
       "16714            Winning Post 8 2016      PSV           2016.0    Simulation   \n",
       "\n",
       "       NA_sales  EU_sales  JP_sales  Other_sales  Critic_Score User_Score  \\\n",
       "0         41.36     28.96      3.77         8.45          76.0          8   \n",
       "1         29.08      3.58      6.81         0.77           NaN        NaN   \n",
       "2         15.68     12.76      3.79         3.29          82.0        8.3   \n",
       "3         15.61     10.93      3.28         2.95          80.0          8   \n",
       "4         11.27      8.89     10.22         1.00           NaN        NaN   \n",
       "...         ...       ...       ...          ...           ...        ...   \n",
       "16710      0.00      0.00      0.01         0.00           NaN        NaN   \n",
       "16711      0.00      0.01      0.00         0.00           NaN        NaN   \n",
       "16712      0.00      0.00      0.01         0.00           NaN        NaN   \n",
       "16713      0.01      0.00      0.00         0.00           NaN        NaN   \n",
       "16714      0.00      0.00      0.01         0.00           NaN        NaN   \n",
       "\n",
       "      Rating  \n",
       "0          E  \n",
       "1        NaN  \n",
       "2          E  \n",
       "3          E  \n",
       "4        NaN  \n",
       "...      ...  \n",
       "16710    NaN  \n",
       "16711    NaN  \n",
       "16712    NaN  \n",
       "16713    NaN  \n",
       "16714    NaN  \n",
       "\n",
       "[16715 rows x 11 columns]"
      ]
     },
     "execution_count": 4,
     "metadata": {},
     "output_type": "execute_result"
    }
   ],
   "source": [
    "#visualización del DF en tabla\n",
    "data_games"
   ]
  },
  {
   "cell_type": "code",
   "execution_count": 5,
   "metadata": {
    "scrolled": false,
    "trusted": true
   },
   "outputs": [
    {
     "name": "stdout",
     "output_type": "stream",
     "text": [
      "Name                  2\n",
      "Platform              0\n",
      "Year_of_Release     269\n",
      "Genre                 2\n",
      "NA_sales              0\n",
      "EU_sales              0\n",
      "JP_sales              0\n",
      "Other_sales           0\n",
      "Critic_Score       8578\n",
      "User_Score         6701\n",
      "Rating             6766\n",
      "dtype: int64\n"
     ]
    }
   ],
   "source": [
    "#contar los valores ausentes\n",
    "print(data_games.isna().sum())"
   ]
  },
  {
   "cell_type": "code",
   "execution_count": 6,
   "metadata": {
    "trusted": true
   },
   "outputs": [],
   "source": [
    "#reemplazar los valores ausentes por 0\n",
    "columns_to_replace = ['Year_of_Release','Critic_Score','User_Score', 'Rating', 'Genre' ]\n",
    "for col in columns_to_replace:\n",
    "    data_games[col]= data_games[col].fillna(0)"
   ]
  },
  {
   "cell_type": "code",
   "execution_count": 7,
   "metadata": {
    "scrolled": true,
    "trusted": true
   },
   "outputs": [
    {
     "name": "stdout",
     "output_type": "stream",
     "text": [
      "Name               2\n",
      "Platform           0\n",
      "Year_of_Release    0\n",
      "Genre              0\n",
      "NA_sales           0\n",
      "EU_sales           0\n",
      "JP_sales           0\n",
      "Other_sales        0\n",
      "Critic_Score       0\n",
      "User_Score         0\n",
      "Rating             0\n",
      "dtype: int64\n"
     ]
    }
   ],
   "source": [
    "print(data_games.isna().sum())"
   ]
  },
  {
   "cell_type": "code",
   "execution_count": 8,
   "metadata": {
    "trusted": true
   },
   "outputs": [
    {
     "name": "stdout",
     "output_type": "stream",
     "text": [
      "0\n"
     ]
    }
   ],
   "source": [
    "#corroborando que no haya valores duplicados\n",
    "print(data_games.duplicated().sum())"
   ]
  },
  {
   "cell_type": "code",
   "execution_count": 9,
   "metadata": {
    "scrolled": true,
    "trusted": true
   },
   "outputs": [
    {
     "name": "stdout",
     "output_type": "stream",
     "text": [
      "Index(['name', 'platform', 'year_of_release', 'genre', 'na_sales', 'eu_sales',\n",
      "       'jp_sales', 'other_sales', 'critic_score', 'user_score', 'rating'],\n",
      "      dtype='object')\n"
     ]
    }
   ],
   "source": [
    "#pasar los nombres de las columnas en minusculas\n",
    "\n",
    "new_col_lower=[]\n",
    "\n",
    "for old_col in data_games.columns:\n",
    "    col_lowered=old_col.lower()\n",
    "    new_col_lower.append(col_lowered)\n",
    "    \n",
    "data_games.columns=new_col_lower\n",
    "print(data_games.columns)\n"
   ]
  },
  {
   "cell_type": "code",
   "execution_count": 10,
   "metadata": {
    "trusted": true
   },
   "outputs": [
    {
     "data": {
      "text/html": [
       "<div>\n",
       "<style scoped>\n",
       "    .dataframe tbody tr th:only-of-type {\n",
       "        vertical-align: middle;\n",
       "    }\n",
       "\n",
       "    .dataframe tbody tr th {\n",
       "        vertical-align: top;\n",
       "    }\n",
       "\n",
       "    .dataframe thead th {\n",
       "        text-align: right;\n",
       "    }\n",
       "</style>\n",
       "<table border=\"1\" class=\"dataframe\">\n",
       "  <thead>\n",
       "    <tr style=\"text-align: right;\">\n",
       "      <th></th>\n",
       "      <th>name</th>\n",
       "      <th>platform</th>\n",
       "      <th>year_of_release</th>\n",
       "      <th>genre</th>\n",
       "      <th>na_sales</th>\n",
       "      <th>eu_sales</th>\n",
       "      <th>jp_sales</th>\n",
       "      <th>other_sales</th>\n",
       "      <th>critic_score</th>\n",
       "      <th>user_score</th>\n",
       "      <th>rating</th>\n",
       "    </tr>\n",
       "  </thead>\n",
       "  <tbody>\n",
       "    <tr>\n",
       "      <th>0</th>\n",
       "      <td>Wii Sports</td>\n",
       "      <td>Wii</td>\n",
       "      <td>2006.0</td>\n",
       "      <td>Sports</td>\n",
       "      <td>41.36</td>\n",
       "      <td>28.96</td>\n",
       "      <td>3.77</td>\n",
       "      <td>8.45</td>\n",
       "      <td>76.0</td>\n",
       "      <td>8</td>\n",
       "      <td>E</td>\n",
       "    </tr>\n",
       "    <tr>\n",
       "      <th>1</th>\n",
       "      <td>Super Mario Bros.</td>\n",
       "      <td>NES</td>\n",
       "      <td>1985.0</td>\n",
       "      <td>Platform</td>\n",
       "      <td>29.08</td>\n",
       "      <td>3.58</td>\n",
       "      <td>6.81</td>\n",
       "      <td>0.77</td>\n",
       "      <td>0.0</td>\n",
       "      <td>0</td>\n",
       "      <td>0</td>\n",
       "    </tr>\n",
       "    <tr>\n",
       "      <th>2</th>\n",
       "      <td>Mario Kart Wii</td>\n",
       "      <td>Wii</td>\n",
       "      <td>2008.0</td>\n",
       "      <td>Racing</td>\n",
       "      <td>15.68</td>\n",
       "      <td>12.76</td>\n",
       "      <td>3.79</td>\n",
       "      <td>3.29</td>\n",
       "      <td>82.0</td>\n",
       "      <td>8.3</td>\n",
       "      <td>E</td>\n",
       "    </tr>\n",
       "    <tr>\n",
       "      <th>3</th>\n",
       "      <td>Wii Sports Resort</td>\n",
       "      <td>Wii</td>\n",
       "      <td>2009.0</td>\n",
       "      <td>Sports</td>\n",
       "      <td>15.61</td>\n",
       "      <td>10.93</td>\n",
       "      <td>3.28</td>\n",
       "      <td>2.95</td>\n",
       "      <td>80.0</td>\n",
       "      <td>8</td>\n",
       "      <td>E</td>\n",
       "    </tr>\n",
       "    <tr>\n",
       "      <th>4</th>\n",
       "      <td>Pokemon Red/Pokemon Blue</td>\n",
       "      <td>GB</td>\n",
       "      <td>1996.0</td>\n",
       "      <td>Role-Playing</td>\n",
       "      <td>11.27</td>\n",
       "      <td>8.89</td>\n",
       "      <td>10.22</td>\n",
       "      <td>1.00</td>\n",
       "      <td>0.0</td>\n",
       "      <td>0</td>\n",
       "      <td>0</td>\n",
       "    </tr>\n",
       "    <tr>\n",
       "      <th>...</th>\n",
       "      <td>...</td>\n",
       "      <td>...</td>\n",
       "      <td>...</td>\n",
       "      <td>...</td>\n",
       "      <td>...</td>\n",
       "      <td>...</td>\n",
       "      <td>...</td>\n",
       "      <td>...</td>\n",
       "      <td>...</td>\n",
       "      <td>...</td>\n",
       "      <td>...</td>\n",
       "    </tr>\n",
       "    <tr>\n",
       "      <th>16710</th>\n",
       "      <td>Samurai Warriors: Sanada Maru</td>\n",
       "      <td>PS3</td>\n",
       "      <td>2016.0</td>\n",
       "      <td>Action</td>\n",
       "      <td>0.00</td>\n",
       "      <td>0.00</td>\n",
       "      <td>0.01</td>\n",
       "      <td>0.00</td>\n",
       "      <td>0.0</td>\n",
       "      <td>0</td>\n",
       "      <td>0</td>\n",
       "    </tr>\n",
       "    <tr>\n",
       "      <th>16711</th>\n",
       "      <td>LMA Manager 2007</td>\n",
       "      <td>X360</td>\n",
       "      <td>2006.0</td>\n",
       "      <td>Sports</td>\n",
       "      <td>0.00</td>\n",
       "      <td>0.01</td>\n",
       "      <td>0.00</td>\n",
       "      <td>0.00</td>\n",
       "      <td>0.0</td>\n",
       "      <td>0</td>\n",
       "      <td>0</td>\n",
       "    </tr>\n",
       "    <tr>\n",
       "      <th>16712</th>\n",
       "      <td>Haitaka no Psychedelica</td>\n",
       "      <td>PSV</td>\n",
       "      <td>2016.0</td>\n",
       "      <td>Adventure</td>\n",
       "      <td>0.00</td>\n",
       "      <td>0.00</td>\n",
       "      <td>0.01</td>\n",
       "      <td>0.00</td>\n",
       "      <td>0.0</td>\n",
       "      <td>0</td>\n",
       "      <td>0</td>\n",
       "    </tr>\n",
       "    <tr>\n",
       "      <th>16713</th>\n",
       "      <td>Spirits &amp; Spells</td>\n",
       "      <td>GBA</td>\n",
       "      <td>2003.0</td>\n",
       "      <td>Platform</td>\n",
       "      <td>0.01</td>\n",
       "      <td>0.00</td>\n",
       "      <td>0.00</td>\n",
       "      <td>0.00</td>\n",
       "      <td>0.0</td>\n",
       "      <td>0</td>\n",
       "      <td>0</td>\n",
       "    </tr>\n",
       "    <tr>\n",
       "      <th>16714</th>\n",
       "      <td>Winning Post 8 2016</td>\n",
       "      <td>PSV</td>\n",
       "      <td>2016.0</td>\n",
       "      <td>Simulation</td>\n",
       "      <td>0.00</td>\n",
       "      <td>0.00</td>\n",
       "      <td>0.01</td>\n",
       "      <td>0.00</td>\n",
       "      <td>0.0</td>\n",
       "      <td>0</td>\n",
       "      <td>0</td>\n",
       "    </tr>\n",
       "  </tbody>\n",
       "</table>\n",
       "<p>16715 rows × 11 columns</p>\n",
       "</div>"
      ],
      "text/plain": [
       "                                name platform  year_of_release         genre  \\\n",
       "0                         Wii Sports      Wii           2006.0        Sports   \n",
       "1                  Super Mario Bros.      NES           1985.0      Platform   \n",
       "2                     Mario Kart Wii      Wii           2008.0        Racing   \n",
       "3                  Wii Sports Resort      Wii           2009.0        Sports   \n",
       "4           Pokemon Red/Pokemon Blue       GB           1996.0  Role-Playing   \n",
       "...                              ...      ...              ...           ...   \n",
       "16710  Samurai Warriors: Sanada Maru      PS3           2016.0        Action   \n",
       "16711               LMA Manager 2007     X360           2006.0        Sports   \n",
       "16712        Haitaka no Psychedelica      PSV           2016.0     Adventure   \n",
       "16713               Spirits & Spells      GBA           2003.0      Platform   \n",
       "16714            Winning Post 8 2016      PSV           2016.0    Simulation   \n",
       "\n",
       "       na_sales  eu_sales  jp_sales  other_sales  critic_score user_score  \\\n",
       "0         41.36     28.96      3.77         8.45          76.0          8   \n",
       "1         29.08      3.58      6.81         0.77           0.0          0   \n",
       "2         15.68     12.76      3.79         3.29          82.0        8.3   \n",
       "3         15.61     10.93      3.28         2.95          80.0          8   \n",
       "4         11.27      8.89     10.22         1.00           0.0          0   \n",
       "...         ...       ...       ...          ...           ...        ...   \n",
       "16710      0.00      0.00      0.01         0.00           0.0          0   \n",
       "16711      0.00      0.01      0.00         0.00           0.0          0   \n",
       "16712      0.00      0.00      0.01         0.00           0.0          0   \n",
       "16713      0.01      0.00      0.00         0.00           0.0          0   \n",
       "16714      0.00      0.00      0.01         0.00           0.0          0   \n",
       "\n",
       "      rating  \n",
       "0          E  \n",
       "1          0  \n",
       "2          E  \n",
       "3          E  \n",
       "4          0  \n",
       "...      ...  \n",
       "16710      0  \n",
       "16711      0  \n",
       "16712      0  \n",
       "16713      0  \n",
       "16714      0  \n",
       "\n",
       "[16715 rows x 11 columns]"
      ]
     },
     "execution_count": 10,
     "metadata": {},
     "output_type": "execute_result"
    }
   ],
   "source": [
    "#corroborar Data Frame\n",
    "data_games"
   ]
  },
  {
   "cell_type": "code",
   "execution_count": 11,
   "metadata": {
    "trusted": true
   },
   "outputs": [
    {
     "name": "stdout",
     "output_type": "stream",
     "text": [
      "                                name platform  year_of_release         genre  \\\n",
      "0                         Wii Sports      Wii             2006        Sports   \n",
      "1                  Super Mario Bros.      NES             1985      Platform   \n",
      "2                     Mario Kart Wii      Wii             2008        Racing   \n",
      "3                  Wii Sports Resort      Wii             2009        Sports   \n",
      "4           Pokemon Red/Pokemon Blue       GB             1996  Role-Playing   \n",
      "...                              ...      ...              ...           ...   \n",
      "16710  Samurai Warriors: Sanada Maru      PS3             2016        Action   \n",
      "16711               LMA Manager 2007     X360             2006        Sports   \n",
      "16712        Haitaka no Psychedelica      PSV             2016     Adventure   \n",
      "16713               Spirits & Spells      GBA             2003      Platform   \n",
      "16714            Winning Post 8 2016      PSV             2016    Simulation   \n",
      "\n",
      "       na_sales  eu_sales  jp_sales  other_sales  critic_score user_score  \\\n",
      "0            41        28         3            8            76          8   \n",
      "1            29         3         6            0             0          0   \n",
      "2            15        12         3            3            82        8.3   \n",
      "3            15        10         3            2            80          8   \n",
      "4            11         8        10            1             0          0   \n",
      "...         ...       ...       ...          ...           ...        ...   \n",
      "16710         0         0         0            0             0          0   \n",
      "16711         0         0         0            0             0          0   \n",
      "16712         0         0         0            0             0          0   \n",
      "16713         0         0         0            0             0          0   \n",
      "16714         0         0         0            0             0          0   \n",
      "\n",
      "      rating  \n",
      "0          E  \n",
      "1          0  \n",
      "2          E  \n",
      "3          E  \n",
      "4          0  \n",
      "...      ...  \n",
      "16710      0  \n",
      "16711      0  \n",
      "16712      0  \n",
      "16713      0  \n",
      "16714      0  \n",
      "\n",
      "[16715 rows x 11 columns]\n"
     ]
    }
   ],
   "source": [
    "#convertir todos los tipos de datos, se convertirán todos los datos en int para eliminar los decimales en la columna year_of_release\n",
    "\n",
    "data_games[\"year_of_release\"]= data_games[\"year_of_release\"].astype(\"int\")\n",
    "#convertir todos los datos float en la columna na_sales\n",
    "data_games[\"na_sales\"]= data_games[\"na_sales\"].astype(\"int\")\n",
    "#convertir todos los datos a float de la columna eu_sales\n",
    "data_games[\"eu_sales\"]= data_games[\"eu_sales\"].astype(\"int\")\n",
    "#convertir todos los datos a float de la columna jp_sales\n",
    "data_games[\"jp_sales\"]= data_games[\"jp_sales\"].astype(\"int\")\n",
    "#convertir todos los datos a float de la columna other_sales\n",
    "data_games[\"other_sales\"]= data_games[\"other_sales\"].astype(\"int\")\n",
    "#convertir todos los datos a float de la columna critic_score\n",
    "data_games[\"critic_score\"]= data_games[\"critic_score\"].astype(\"int\")\n",
    "\n",
    "\n",
    "\n",
    "print(data_games)"
   ]
  },
  {
   "cell_type": "markdown",
   "metadata": {},
   "source": [
    "se cambiaron los valores ausentes por cero para poder cambiar las columnas en números enteros, posiblemente no haya datos registrados por ejemplo en el año de lanzamiento porque se perdió el registro o por se lanzaron en el mismo año que el dato anterior y como es el mismo año no se agregó para no poner datos duplicados, adicional y hay  datos vacíos en las reseñas de juegos porque no todo los usuarios los criticaron o simplemente porque no se lanzaron como tal en el mercado al igual que no hay reseñas por usuario por las mismas razones."
   ]
  },
  {
   "cell_type": "code",
   "execution_count": 12,
   "metadata": {
    "trusted": true
   },
   "outputs": [
    {
     "name": "stdout",
     "output_type": "stream",
     "text": [
      "Total sales across all regions: 3140\n"
     ]
    }
   ],
   "source": [
    "# calculando las ventas totales de todas las regiones\n",
    "total_sales = data_games[['na_sales', 'eu_sales', 'jp_sales', 'other_sales']].sum().sum()\n",
    "\n",
    "print(f'Total sales across all regions: {total_sales}')"
   ]
  },
  {
   "cell_type": "markdown",
   "metadata": {},
   "source": [
    "*se rellenaron los valores nulos en score de críticos y usuarios"
   ]
  },
  {
   "cell_type": "code",
   "execution_count": 13,
   "metadata": {
    "trusted": true
   },
   "outputs": [
    {
     "data": {
      "text/html": [
       "<div>\n",
       "<style scoped>\n",
       "    .dataframe tbody tr th:only-of-type {\n",
       "        vertical-align: middle;\n",
       "    }\n",
       "\n",
       "    .dataframe tbody tr th {\n",
       "        vertical-align: top;\n",
       "    }\n",
       "\n",
       "    .dataframe thead th {\n",
       "        text-align: right;\n",
       "    }\n",
       "</style>\n",
       "<table border=\"1\" class=\"dataframe\">\n",
       "  <thead>\n",
       "    <tr style=\"text-align: right;\">\n",
       "      <th></th>\n",
       "      <th>name</th>\n",
       "      <th>platform</th>\n",
       "      <th>year_of_release</th>\n",
       "      <th>genre</th>\n",
       "      <th>na_sales</th>\n",
       "      <th>eu_sales</th>\n",
       "      <th>jp_sales</th>\n",
       "      <th>other_sales</th>\n",
       "      <th>critic_score</th>\n",
       "      <th>user_score</th>\n",
       "      <th>rating</th>\n",
       "    </tr>\n",
       "  </thead>\n",
       "  <tbody>\n",
       "    <tr>\n",
       "      <th>0</th>\n",
       "      <td>Wii Sports</td>\n",
       "      <td>Wii</td>\n",
       "      <td>2006</td>\n",
       "      <td>Sports</td>\n",
       "      <td>41</td>\n",
       "      <td>28</td>\n",
       "      <td>3</td>\n",
       "      <td>8</td>\n",
       "      <td>76</td>\n",
       "      <td>8</td>\n",
       "      <td>E</td>\n",
       "    </tr>\n",
       "    <tr>\n",
       "      <th>1</th>\n",
       "      <td>Super Mario Bros.</td>\n",
       "      <td>NES</td>\n",
       "      <td>1985</td>\n",
       "      <td>Platform</td>\n",
       "      <td>29</td>\n",
       "      <td>3</td>\n",
       "      <td>6</td>\n",
       "      <td>0</td>\n",
       "      <td>0</td>\n",
       "      <td>0</td>\n",
       "      <td>0</td>\n",
       "    </tr>\n",
       "    <tr>\n",
       "      <th>2</th>\n",
       "      <td>Mario Kart Wii</td>\n",
       "      <td>Wii</td>\n",
       "      <td>2008</td>\n",
       "      <td>Racing</td>\n",
       "      <td>15</td>\n",
       "      <td>12</td>\n",
       "      <td>3</td>\n",
       "      <td>3</td>\n",
       "      <td>82</td>\n",
       "      <td>8.3</td>\n",
       "      <td>E</td>\n",
       "    </tr>\n",
       "    <tr>\n",
       "      <th>3</th>\n",
       "      <td>Wii Sports Resort</td>\n",
       "      <td>Wii</td>\n",
       "      <td>2009</td>\n",
       "      <td>Sports</td>\n",
       "      <td>15</td>\n",
       "      <td>10</td>\n",
       "      <td>3</td>\n",
       "      <td>2</td>\n",
       "      <td>80</td>\n",
       "      <td>8</td>\n",
       "      <td>E</td>\n",
       "    </tr>\n",
       "    <tr>\n",
       "      <th>4</th>\n",
       "      <td>Pokemon Red/Pokemon Blue</td>\n",
       "      <td>GB</td>\n",
       "      <td>1996</td>\n",
       "      <td>Role-Playing</td>\n",
       "      <td>11</td>\n",
       "      <td>8</td>\n",
       "      <td>10</td>\n",
       "      <td>1</td>\n",
       "      <td>0</td>\n",
       "      <td>0</td>\n",
       "      <td>0</td>\n",
       "    </tr>\n",
       "    <tr>\n",
       "      <th>...</th>\n",
       "      <td>...</td>\n",
       "      <td>...</td>\n",
       "      <td>...</td>\n",
       "      <td>...</td>\n",
       "      <td>...</td>\n",
       "      <td>...</td>\n",
       "      <td>...</td>\n",
       "      <td>...</td>\n",
       "      <td>...</td>\n",
       "      <td>...</td>\n",
       "      <td>...</td>\n",
       "    </tr>\n",
       "    <tr>\n",
       "      <th>16710</th>\n",
       "      <td>Samurai Warriors: Sanada Maru</td>\n",
       "      <td>PS3</td>\n",
       "      <td>2016</td>\n",
       "      <td>Action</td>\n",
       "      <td>0</td>\n",
       "      <td>0</td>\n",
       "      <td>0</td>\n",
       "      <td>0</td>\n",
       "      <td>0</td>\n",
       "      <td>0</td>\n",
       "      <td>0</td>\n",
       "    </tr>\n",
       "    <tr>\n",
       "      <th>16711</th>\n",
       "      <td>LMA Manager 2007</td>\n",
       "      <td>X360</td>\n",
       "      <td>2006</td>\n",
       "      <td>Sports</td>\n",
       "      <td>0</td>\n",
       "      <td>0</td>\n",
       "      <td>0</td>\n",
       "      <td>0</td>\n",
       "      <td>0</td>\n",
       "      <td>0</td>\n",
       "      <td>0</td>\n",
       "    </tr>\n",
       "    <tr>\n",
       "      <th>16712</th>\n",
       "      <td>Haitaka no Psychedelica</td>\n",
       "      <td>PSV</td>\n",
       "      <td>2016</td>\n",
       "      <td>Adventure</td>\n",
       "      <td>0</td>\n",
       "      <td>0</td>\n",
       "      <td>0</td>\n",
       "      <td>0</td>\n",
       "      <td>0</td>\n",
       "      <td>0</td>\n",
       "      <td>0</td>\n",
       "    </tr>\n",
       "    <tr>\n",
       "      <th>16713</th>\n",
       "      <td>Spirits &amp; Spells</td>\n",
       "      <td>GBA</td>\n",
       "      <td>2003</td>\n",
       "      <td>Platform</td>\n",
       "      <td>0</td>\n",
       "      <td>0</td>\n",
       "      <td>0</td>\n",
       "      <td>0</td>\n",
       "      <td>0</td>\n",
       "      <td>0</td>\n",
       "      <td>0</td>\n",
       "    </tr>\n",
       "    <tr>\n",
       "      <th>16714</th>\n",
       "      <td>Winning Post 8 2016</td>\n",
       "      <td>PSV</td>\n",
       "      <td>2016</td>\n",
       "      <td>Simulation</td>\n",
       "      <td>0</td>\n",
       "      <td>0</td>\n",
       "      <td>0</td>\n",
       "      <td>0</td>\n",
       "      <td>0</td>\n",
       "      <td>0</td>\n",
       "      <td>0</td>\n",
       "    </tr>\n",
       "  </tbody>\n",
       "</table>\n",
       "<p>16715 rows × 11 columns</p>\n",
       "</div>"
      ],
      "text/plain": [
       "                                name platform  year_of_release         genre  \\\n",
       "0                         Wii Sports      Wii             2006        Sports   \n",
       "1                  Super Mario Bros.      NES             1985      Platform   \n",
       "2                     Mario Kart Wii      Wii             2008        Racing   \n",
       "3                  Wii Sports Resort      Wii             2009        Sports   \n",
       "4           Pokemon Red/Pokemon Blue       GB             1996  Role-Playing   \n",
       "...                              ...      ...              ...           ...   \n",
       "16710  Samurai Warriors: Sanada Maru      PS3             2016        Action   \n",
       "16711               LMA Manager 2007     X360             2006        Sports   \n",
       "16712        Haitaka no Psychedelica      PSV             2016     Adventure   \n",
       "16713               Spirits & Spells      GBA             2003      Platform   \n",
       "16714            Winning Post 8 2016      PSV             2016    Simulation   \n",
       "\n",
       "       na_sales  eu_sales  jp_sales  other_sales  critic_score user_score  \\\n",
       "0            41        28         3            8            76          8   \n",
       "1            29         3         6            0             0          0   \n",
       "2            15        12         3            3            82        8.3   \n",
       "3            15        10         3            2            80          8   \n",
       "4            11         8        10            1             0          0   \n",
       "...         ...       ...       ...          ...           ...        ...   \n",
       "16710         0         0         0            0             0          0   \n",
       "16711         0         0         0            0             0          0   \n",
       "16712         0         0         0            0             0          0   \n",
       "16713         0         0         0            0             0          0   \n",
       "16714         0         0         0            0             0          0   \n",
       "\n",
       "      rating  \n",
       "0          E  \n",
       "1          0  \n",
       "2          E  \n",
       "3          E  \n",
       "4          0  \n",
       "...      ...  \n",
       "16710      0  \n",
       "16711      0  \n",
       "16712      0  \n",
       "16713      0  \n",
       "16714      0  \n",
       "\n",
       "[16715 rows x 11 columns]"
      ]
     },
     "execution_count": 13,
     "metadata": {},
     "output_type": "execute_result"
    }
   ],
   "source": [
    "data_games"
   ]
  },
  {
   "cell_type": "markdown",
   "metadata": {},
   "source": [
    "SECCION 3. ANALIZANDO LOS DATOS"
   ]
  },
  {
   "cell_type": "code",
   "execution_count": 14,
   "metadata": {
    "scrolled": true,
    "trusted": true
   },
   "outputs": [
    {
     "name": "stdout",
     "output_type": "stream",
     "text": [
      "0        269\n",
      "1980       9\n",
      "1981      46\n",
      "1982      36\n",
      "1983      17\n",
      "1984      14\n",
      "1985      14\n",
      "1986      21\n",
      "1987      16\n",
      "1988      15\n",
      "1989      17\n",
      "1990      16\n",
      "1991      41\n",
      "1992      43\n",
      "1993      62\n",
      "1994     121\n",
      "1995     219\n",
      "1996     263\n",
      "1997     289\n",
      "1998     379\n",
      "1999     338\n",
      "2000     350\n",
      "2001     482\n",
      "2002     829\n",
      "2003     775\n",
      "2004     762\n",
      "2005     939\n",
      "2006    1006\n",
      "2007    1197\n",
      "2008    1427\n",
      "2009    1426\n",
      "2010    1255\n",
      "2011    1136\n",
      "2012     653\n",
      "2013     544\n",
      "2014     581\n",
      "2015     606\n",
      "2016     502\n",
      "Name: year_of_release, dtype: int64\n"
     ]
    }
   ],
   "source": [
    "#lazamiento de los juegos por año\n",
    "games_count = data_games['year_of_release'].value_counts().sort_index()\n",
    "    \n",
    "print(games_count)"
   ]
  },
  {
   "cell_type": "code",
   "execution_count": 15,
   "metadata": {
    "trusted": true
   },
   "outputs": [
    {
     "name": "stdout",
     "output_type": "stream",
     "text": [
      "platform\n",
      "3DS     512\n",
      "DS      184\n",
      "PC      389\n",
      "PS2       7\n",
      "PS3     708\n",
      "PS4     392\n",
      "PSP     312\n",
      "PSV     429\n",
      "Wii     197\n",
      "WiiU    147\n",
      "X360    498\n",
      "XOne    247\n",
      "Name: year_of_release, dtype: int64\n"
     ]
    },
    {
     "data": {
      "image/png": "[encoded data removed]",
      "text/plain": [
       "<Figure size 1000x600 with 1 Axes>"
      ]
     },
     "metadata": {},
     "output_type": "display_data"
    }
   ],
   "source": [
    "# qué plataforma son las que tienen más ventas, explícalo con una tabla de distribución\n",
    "import pandas as pd\n",
    "from matplotlib import pyplot as plt\n",
    "# Filtrar los datos para el periodo de 2011 a 2016\n",
    "filtered_data = data_games[(data_games['year_of_release'] >= 2011) & (data_games['year_of_release'] <= 2016)]\n",
    "\n",
    "# Contar el número de juegos por plataforma en el periodo especificado\n",
    "games_count_by_platform_year = filtered_data.groupby('platform')['year_of_release'].count()\n",
    "\n",
    "# Crear una tabla de distribución\n",
    "print(games_count_by_platform_year)\n",
    "\n",
    "# Crear un gráfico de dispersión\n",
    "plt.figure(figsize=(10, 6))\n",
    "plt.scatter(filtered_data['platform'], filtered_data['year_of_release'], alpha=0.5)\n",
    "plt.title('Número de Juegos por Plataforma y Año (2011-2016)')\n",
    "plt.xlabel('Plataforma')\n",
    "plt.ylabel('Año de Lanzamiento')\n",
    "plt.xticks(rotation=90)  # Rotar las etiquetas del eje x a 90 grados\n",
    "\n",
    "# Mostrar el gráfico\n",
    "plt.show()"
   ]
  },
  {
   "cell_type": "markdown",
   "metadata": {},
   "source": [
    "De las plataformas que ya no tienen ventas son: GEN sólo se lanzaron 2 en el año de 1994, 2600 sólo estuvo en la temporada del 1981 hasta el año de 1989, 3DO sólo lanzó 3 juegos del 94 al 95, de las plataformas populares se encuentram: DS, año de lanzamiento fue en el 98 y continuó hasta el 2013, PS2 del 98 al 2003, wii desde 2009 al 16 con un total de 1320 juegos.\n",
    "\n"
   ]
  },
  {
   "cell_type": "code",
   "execution_count": 16,
   "metadata": {
    "trusted": true
   },
   "outputs": [
    {
     "name": "stdout",
     "output_type": "stream",
     "text": [
      "Tiempo de vida de cada plataforma:\n",
      "   platform  first_year  last_year  duration\n",
      "0      2600        1980       1989        10\n",
      "1       3DO        1994       1995         2\n",
      "2       3DS        2011       2016         6\n",
      "3        DC        1998       2008        11\n",
      "4        DS        1985       2013        29\n",
      "5        GB        1988       2001        14\n",
      "6       GBA        2000       2007         8\n",
      "7        GC        2001       2007         7\n",
      "8       GEN        1990       1994         5\n",
      "9        GG        1992       1992         1\n",
      "10      N64        1996       2002         7\n",
      "11      NES        1983       1994        12\n",
      "12       NG        1993       1996         4\n",
      "13       PC        1985       2016        32\n",
      "14     PCFX        1996       1996         1\n",
      "15       PS        1994       2003        10\n",
      "16      PS2        2000       2011        12\n",
      "17      PS3        2006       2016        11\n",
      "18      PS4        2013       2016         4\n",
      "19      PSP        2004       2015        12\n",
      "20      PSV        2011       2016         6\n",
      "21      SAT        1994       1999         6\n",
      "22      SCD        1993       1994         2\n",
      "23     SNES        1990       1999        10\n",
      "24     TG16        1995       1995         1\n",
      "25       WS        1999       2001         3\n",
      "26      Wii        2006       2016        11\n",
      "27     WiiU        2012       2016         5\n",
      "28     X360        2005       2016        12\n",
      "29       XB        2000       2008         9\n",
      "30     XOne        2013       2016         4\n",
      "Tiempo promedio de vida de las plataformas: 8.61 años\n"
     ]
    }
   ],
   "source": [
    "#El periodo en el que tardan y aparecen nuevas plataformas son al rededor \n",
    "# Filtrar los registros donde 'year_of_release' no es 0\n",
    "data_games_filtered = data_games[data_games['year_of_release'] > 0]\n",
    "\n",
    "# Encontrar el primer y último año de lanzamiento para cada plataforma\n",
    "platform_activity = data_games_filtered.groupby('platform')['year_of_release'].agg(['min', 'max']).reset_index()\n",
    "platform_activity.columns = ['platform', 'first_year', 'last_year']\n",
    "\n",
    "# Calcular la duración de cada plataforma (tiempo de vida)\n",
    "platform_activity['duration'] = platform_activity['last_year'] - platform_activity['first_year'] + 1\n",
    "\n",
    "# Calcular el tiempo promedio de vida de las plataformas\n",
    "average_lifetime = platform_activity['duration'].mean()\n",
    "\n",
    "# Mostrar los resultados\n",
    "print(f\"Tiempo de vida de cada plataforma:\\n{platform_activity}\")\n",
    "print(f\"Tiempo promedio de vida de las plataformas: {average_lifetime:.2f} años\")"
   ]
  },
  {
   "cell_type": "markdown",
   "metadata": {},
   "source": [
    "El tiempo promedio de vida de las plataformas es de 8 años, mientras que las antiguas plataformas su tiempo de duración oscilaba entre el año a 14 años "
   ]
  },
  {
   "cell_type": "code",
   "execution_count": 17,
   "metadata": {
    "trusted": true
   },
   "outputs": [
    {
     "name": "stdout",
     "output_type": "stream",
     "text": [
      "Promedio de ventas por plataforma (2011-2016):\n",
      "year_of_release\n",
      "2011    94.666667\n",
      "2012    54.416667\n",
      "2013    45.333333\n",
      "2014    48.416667\n",
      "2015    50.500000\n",
      "2016    41.833333\n",
      "dtype: float64\n",
      "\n",
      "Estimación de ventas por plataforma para 2017:\n",
      "year_of_release\n",
      "2011    94.666667\n",
      "2012    54.416667\n",
      "2013    45.333333\n",
      "2014    48.416667\n",
      "2015    50.500000\n",
      "2016    41.833333\n",
      "dtype: float64\n"
     ]
    }
   ],
   "source": [
    "#creación de modelo para estimar 2017\n",
    "\n",
    "# Filtrar los datos para el periodo de 2011 a 2016\n",
    "filtered_data = data_games[(data_games['year_of_release'] >= 2011) & (data_games['year_of_release'] <= 2016)]\n",
    "\n",
    "# Calcular el número de juegos por plataforma y año\n",
    "games_count_by_platform_year = filtered_data.groupby(['platform', 'year_of_release']).size().unstack(fill_value=0)\n",
    "\n",
    "# Calcular el promedio de juegos por plataforma durante el periodo 2011-2016\n",
    "average_sales_per_platform = games_count_by_platform_year.mean()\n",
    "\n",
    "# Imprimir el promedio de juegos por plataforma\n",
    "print(\"Promedio de ventas por plataforma (2011-2016):\")\n",
    "print(average_sales_per_platform)\n",
    "\n",
    "# Hacer una estimación simple para 2017\n",
    "# Vamos a usar el promedio de ventas de los años 2011-2016 como estimación para 2017\n",
    "estimated_sales_2017 = average_sales_per_platform\n",
    "print(f\"\\nEstimación de ventas por plataforma para 2017:\")\n",
    "print(estimated_sales_2017)"
   ]
  },
  {
   "cell_type": "markdown",
   "metadata": {},
   "source": [
    "Las plataformas líderes  son:\n",
    "XOne\n",
    "X360\n",
    "PS4\n",
    "PSP\n",
    "van en aumento y todavía siguen vigentes en 2016"
   ]
  },
  {
   "cell_type": "code",
   "execution_count": 18,
   "metadata": {
    "trusted": true
   },
   "outputs": [
    {
     "data": {
      "text/plain": [
       "<Figure size 1000x600 with 0 Axes>"
      ]
     },
     "metadata": {},
     "output_type": "display_data"
    },
    {
     "data": {
      "image/png": "[encoded data removed]",
      "text/plain": [
       "<Figure size 640x480 with 1 Axes>"
      ]
     },
     "metadata": {},
     "output_type": "display_data"
    }
   ],
   "source": [
    "#ventas totales por plataforma con diagrama de caja\n",
    "# Filtrar los datos para el periodo de 2011 a 2016\n",
    "filtered_data = data_games[(data_games['year_of_release'] >= 2011) & (data_games['year_of_release'] <= 2016)]\n",
    "\n",
    "# Filtrar las plataformas de interés\n",
    "platforms_of_interest = ['X360', 'XOne', 'PS4', 'PSP']\n",
    "filtered_data = filtered_data[filtered_data['platform'].isin(platforms_of_interest)]\n",
    "\n",
    "# Contar el número de juegos por plataforma y año\n",
    "filtered_data['game_count'] = filtered_data.groupby('platform')['year_of_release'].transform('count')\n",
    "\n",
    "# Crear el diagrama de caja\n",
    "plt.figure(figsize=(10, 6))\n",
    "filtered_data.boxplot(column='game_count', by='platform')\n",
    "\n",
    "# Añadir título y etiquetas\n",
    "plt.title('Distribución del Número de Juegos por Plataforma (2011-2016)')\n",
    "plt.suptitle('')  # Eliminar el título predeterminado 'boxplot'\n",
    "plt.xlabel('Plataforma')\n",
    "plt.ylabel('Número de Juegos')\n",
    "\n",
    "# Mostrar la gráfica\n",
    "plt.show()"
   ]
  },
  {
   "cell_type": "code",
   "execution_count": 19,
   "metadata": {
    "trusted": true
   },
   "outputs": [
    {
     "name": "stdout",
     "output_type": "stream",
     "text": [
      "                                                    name platform  \\\n",
      "14                                    Kinect Adventures!     X360   \n",
      "23                                    Grand Theft Auto V     X360   \n",
      "29                        Call of Duty: Modern Warfare 3     X360   \n",
      "31                             Call of Duty: Black Ops 3      PS4   \n",
      "32                               Call of Duty: Black Ops     X360   \n",
      "...                                                  ...      ...   \n",
      "16679                                        XI Coliseum      PSP   \n",
      "16682         Grisaia no Kajitsu: La Fruit de la Grisaia      PSP   \n",
      "16687                              Neo Angelique Special      PSP   \n",
      "16701  Eiyuu Densetsu: Sora no Kiseki Material Collec...      PSP   \n",
      "16711                                   LMA Manager 2007     X360   \n",
      "\n",
      "       year_of_release         genre  na_sales  eu_sales  jp_sales  \\\n",
      "14                2010          Misc        15         4         0   \n",
      "23                2013        Action         9         5         0   \n",
      "29                2011       Shooter         9         4         0   \n",
      "31                2015       Shooter         6         5         0   \n",
      "32                2010       Shooter         9         3         0   \n",
      "...                ...           ...       ...       ...       ...   \n",
      "16679             2006        Puzzle         0         0         0   \n",
      "16682             2013     Adventure         0         0         0   \n",
      "16687             2008     Adventure         0         0         0   \n",
      "16701             2007  Role-Playing         0         0         0   \n",
      "16711             2006        Sports         0         0         0   \n",
      "\n",
      "       other_sales  critic_score user_score rating  \n",
      "14               1            61        6.3      E  \n",
      "23               1            97        8.1      M  \n",
      "29               1            88        3.4      M  \n",
      "31               2             0          0      0  \n",
      "32               1            87        6.3      M  \n",
      "...            ...           ...        ...    ...  \n",
      "16679            0             0          0      0  \n",
      "16682            0             0          0      0  \n",
      "16687            0             0          0      0  \n",
      "16701            0             0          0      0  \n",
      "16711            0             0          0      0  \n",
      "\n",
      "[3110 rows x 11 columns]\n"
     ]
    }
   ],
   "source": [
    "# calcular la correlación con las críticas y reseñas de un juego\n",
    "platforms_of_interest = ['X360', 'XOne', 'PS4', 'PSP']\n",
    "filtered_data = data_games[data_games['platform'].isin(platforms_of_interest)]\n",
    "print(filtered_data)"
   ]
  },
  {
   "cell_type": "code",
   "execution_count": 20,
   "metadata": {
    "trusted": true
   },
   "outputs": [
    {
     "name": "stdout",
     "output_type": "stream",
     "text": [
      "Correlaciones:\n",
      "na_sales       0.082897\n",
      "eu_sales       0.090970\n",
      "jp_sales      -0.008933\n",
      "other_sales    0.055484\n",
      "dtype: float64\n"
     ]
    }
   ],
   "source": [
    "#correlación entre reseñas y ventas\n",
    "\n",
    "# Seleccionar las columnas de ventas y la columna de puntuación crítica\n",
    "sales_columns = ['na_sales', 'eu_sales', 'jp_sales', 'other_sales']\n",
    "data_for_corr = data_games[sales_columns]\n",
    "\n",
    "# Calcular la correlación entre las columnas de ventas y la columna de puntuación crítica\n",
    "correlation = data_for_corr.corrwith(data_games['critic_score'])\n",
    "print(f'Correlaciones:\\n{correlation}')"
   ]
  },
  {
   "cell_type": "code",
   "execution_count": 21,
   "metadata": {
    "trusted": true
   },
   "outputs": [
    {
     "data": {
      "image/png": "[encoded data removed]",
      "text/plain": [
       "<Figure size 1250x1250 with 30 Axes>"
      ]
     },
     "metadata": {},
     "output_type": "display_data"
    }
   ],
   "source": [
    "import seaborn as sns\n",
    "import matplotlib.pyplot as plt\n",
    "# se crea matriz de correlación entre los ventas y críticas\n",
    "sales_columns = ['na_sales', 'eu_sales', 'jp_sales', 'other_sales', 'critic_score']\n",
    "data_for_plot = data_games[sales_columns]\n",
    "\n",
    "# Crear la tabla de dispersión\n",
    "sns.pairplot(data_for_plot, diag_kind='kde')\n",
    "\n",
    "# Añadir título\n",
    "plt.suptitle('Tabla de Dispersión de Ventas y Puntuación Crítica', y=1.02)\n",
    "\n",
    "# Mostrar la gráfica\n",
    "plt.show()"
   ]
  },
  {
   "cell_type": "markdown",
   "metadata": {},
   "source": [
    "se puede observar que los juegos que no tienen críticas ni reseñas no se venden o no son consumidos por los usuarios"
   ]
  },
  {
   "cell_type": "code",
   "execution_count": 22,
   "metadata": {
    "trusted": true
   },
   "outputs": [
    {
     "data": {
      "image/png": "[encoded data removed]",
      "text/plain": [
       "<Figure size 1000x600 with 1 Axes>"
      ]
     },
     "metadata": {},
     "output_type": "display_data"
    }
   ],
   "source": [
    "# distribución general por género\n",
    "\n",
    "# Contar la frecuencia de cada género\n",
    "genre_counts = data_games['genre'].value_counts()\n",
    "\n",
    "# Crear el gráfico de barras\n",
    "plt.figure(figsize=(10, 6))\n",
    "sns.barplot(x=genre_counts.index, y=genre_counts.values, palette='viridis')\n",
    "\n",
    "# Añadir títulos y etiquetas\n",
    "plt.title('Distribución de Géneros en Data Games')\n",
    "plt.xlabel('Género')\n",
    "plt.ylabel('Frecuencia')\n",
    "\n",
    "# Mostrar la gráfica\n",
    "plt.xticks(rotation=45)  # Rotar las etiquetas del eje x para mejorar la legibilidad\n",
    "plt.show()"
   ]
  },
  {
   "cell_type": "markdown",
   "metadata": {},
   "source": [
    "los géneros más rentables son acción, deportes, misticos y el de menor es de peleas, estrategia y puzzle, se puede generalizar que son más rentables los juegos de acción y deportes en general"
   ]
  },
  {
   "cell_type": "markdown",
   "metadata": {},
   "source": [
    "PASO 4. PERFIL DE USUARIO PARA CADA REGION"
   ]
  },
  {
   "cell_type": "code",
   "execution_count": 23,
   "metadata": {
    "trusted": true
   },
   "outputs": [
    {
     "name": "stdout",
     "output_type": "stream",
     "text": [
      "Top 5 plataformas en NA:\n",
      "platform\n",
      "X360    289\n",
      "Wii     233\n",
      "PS2     225\n",
      "PS3     136\n",
      "PS      132\n",
      "Name: na_sales, dtype: int64\n"
     ]
    },
    {
     "data": {
      "image/png": "[encoded data removed]",
      "text/plain": [
       "<Figure size 1000x600 with 1 Axes>"
      ]
     },
     "metadata": {},
     "output_type": "display_data"
    }
   ],
   "source": [
    "# Encontrar las cinco principales plataformas por región NA\n",
    "top_platform_na = data_games.groupby('platform')['na_sales'].sum().nlargest(5)\n",
    "\n",
    "print(\"Top 5 plataformas en NA:\")\n",
    "print(top_platform_na)\n",
    "\n",
    "# Crear un gráfico de barras para las primeras plataformas en NA \n",
    "plt.figure(figsize=(10, 6))\n",
    "top_platform_na.plot(kind='bar', color='skyblue')\n",
    "plt.title('Top 5 plataformas en NA')\n",
    "plt.xlabel('Plataformas')\n",
    "plt.ylabel('NA')\n",
    "plt.xticks(rotation=45)\n",
    "plt.show()"
   ]
  },
  {
   "cell_type": "code",
   "execution_count": 24,
   "metadata": {
    "trusted": true
   },
   "outputs": [
    {
     "name": "stdout",
     "output_type": "stream",
     "text": [
      "Top 5 géneros por ventas en NA:\n",
      "genre\n",
      "Shooter     306\n",
      "Action      298\n",
      "Platform    250\n",
      "Sports      247\n",
      "Misc        156\n",
      "Name: na_sales, dtype: int64\n"
     ]
    },
    {
     "data": {
      "image/png": "[encoded data removed]",
      "text/plain": [
       "<Figure size 1000x600 with 1 Axes>"
      ]
     },
     "metadata": {},
     "output_type": "display_data"
    }
   ],
   "source": [
    "\n",
    "# Encontrar los cinco principales géneros por ventas en NA\n",
    "top_genre_na = data_games.groupby('genre')['na_sales'].sum().nlargest(5)\n",
    "\n",
    "print(\"Top 5 géneros por ventas en NA:\")\n",
    "print(top_genre_na)\n",
    "\n",
    "# Crear un gráfico de barras para las ventas en NA por género\n",
    "plt.figure(figsize=(10, 6))\n",
    "top_genre_na.plot(kind='bar', color='skyblue')\n",
    "plt.title('Top 5 Géneros por Ventas en NA')\n",
    "plt.xlabel('Género')\n",
    "plt.ylabel('Ventas en NA (en millones)')\n",
    "plt.xticks(rotation=45)\n",
    "plt.show()"
   ]
  },
  {
   "cell_type": "code",
   "execution_count": 25,
   "metadata": {
    "trusted": true
   },
   "outputs": [
    {
     "name": "stdout",
     "output_type": "stream",
     "text": [
      "Top 5 plataformas en EU:\n",
      "platform\n",
      "X360    289\n",
      "Wii     233\n",
      "PS2     225\n",
      "PS3     136\n",
      "PS      132\n",
      "Name: na_sales, dtype: int64\n"
     ]
    },
    {
     "data": {
      "image/png": "[encoded data removed]",
      "text/plain": [
       "<Figure size 1000x600 with 1 Axes>"
      ]
     },
     "metadata": {},
     "output_type": "display_data"
    }
   ],
   "source": [
    "# Encontrar las cinco principales plataformas por región EU\n",
    "top_platform_eu = data_games.groupby('platform')['eu_sales'].sum().nlargest(5)\n",
    "\n",
    "print(\"Top 5 plataformas en EU:\")\n",
    "print(top_platform_na)\n",
    "\n",
    "# Crear un gráfico de barras para las primeras plataformas en NA \n",
    "plt.figure(figsize=(10, 6))\n",
    "top_platform_eu.plot(kind='bar', color='skyblue')\n",
    "plt.title('Top 5 plataformas en EU')\n",
    "plt.xlabel('Plataformas')\n",
    "plt.ylabel('EU')\n",
    "plt.xticks(rotation=45)\n",
    "plt.show()"
   ]
  },
  {
   "cell_type": "code",
   "execution_count": 26,
   "metadata": {
    "scrolled": true,
    "trusted": true
   },
   "outputs": [
    {
     "name": "stdout",
     "output_type": "stream",
     "text": [
      "Top 5 géneros por ventas en EU:\n",
      "genre\n",
      "Action          156\n",
      "Sports          152\n",
      "Shooter         122\n",
      "Role-Playing     81\n",
      "Racing           80\n",
      "Name: eu_sales, dtype: int64\n"
     ]
    },
    {
     "data": {
      "image/png": "[encoded data removed]",
      "text/plain": [
       "<Figure size 1000x600 with 1 Axes>"
      ]
     },
     "metadata": {},
     "output_type": "display_data"
    }
   ],
   "source": [
    "\n",
    "# Encontrar los cinco principales géneros por ventas en EU\n",
    "top_genre_eu = data_games.groupby('genre')['eu_sales'].sum().nlargest(5)\n",
    "\n",
    "print(\"Top 5 géneros por ventas en EU:\")\n",
    "print(top_genre_eu)\n",
    "\n",
    "# Crear un gráfico de barras para las ventas en NA por género\n",
    "plt.figure(figsize=(10, 6))\n",
    "top_genre_eu.plot(kind='bar', color='skyblue')\n",
    "plt.title('Top 5 Géneros por Ventas en EU')\n",
    "plt.xlabel('Género')\n",
    "plt.ylabel('Ventas en EU (en millones)')\n",
    "plt.xticks(rotation=45)\n",
    "plt.show()"
   ]
  },
  {
   "cell_type": "code",
   "execution_count": 27,
   "metadata": {
    "trusted": true
   },
   "outputs": [
    {
     "name": "stdout",
     "output_type": "stream",
     "text": [
      "Top 5 plataformas en JP:\n",
      "platform\n",
      "DS      76\n",
      "NES     57\n",
      "GB      51\n",
      "SNES    45\n",
      "3DS     43\n",
      "Name: jp_sales, dtype: int64\n"
     ]
    },
    {
     "data": {
      "image/png": "[encoded data removed]",
      "text/plain": [
       "<Figure size 1000x600 with 1 Axes>"
      ]
     },
     "metadata": {},
     "output_type": "display_data"
    }
   ],
   "source": [
    "# Encontrar las cinco principales plataformas por región JP\n",
    "top_platform_jp = data_games.groupby('platform')['jp_sales'].sum().nlargest(5)\n",
    "\n",
    "print(\"Top 5 plataformas en JP:\")\n",
    "print(top_platform_jp)\n",
    "\n",
    "# Crear un gráfico de barras para las primeras plataformas en NA \n",
    "plt.figure(figsize=(10, 6))\n",
    "top_platform_jp.plot(kind='bar', color='skyblue')\n",
    "plt.title('Top 5 plataformas en JP')\n",
    "plt.xlabel('Plataformas')\n",
    "plt.ylabel('JP')\n",
    "plt.xticks(rotation=45)\n",
    "plt.show()"
   ]
  },
  {
   "cell_type": "code",
   "execution_count": 28,
   "metadata": {
    "trusted": true
   },
   "outputs": [
    {
     "name": "stdout",
     "output_type": "stream",
     "text": [
      "Top 5 géneros por ventas en jp:\n",
      "genre\n",
      "Role-Playing    160\n",
      "Platform         64\n",
      "Sports           35\n",
      "Misc             32\n",
      "Action           24\n",
      "Name: jp_sales, dtype: int64\n"
     ]
    },
    {
     "data": {
      "image/png": "[encoded data removed]",
      "text/plain": [
       "<Figure size 1000x600 with 1 Axes>"
      ]
     },
     "metadata": {},
     "output_type": "display_data"
    }
   ],
   "source": [
    "\n",
    "# Encontrar los cinco principales géneros por ventas en JP\n",
    "top_genre_jp = data_games.groupby('genre')['jp_sales'].sum().nlargest(5)\n",
    "\n",
    "print(\"Top 5 géneros por ventas en jp:\")\n",
    "print(top_genre_jp)\n",
    "\n",
    "# Crear un gráfico de barras para las ventas en NA por género\n",
    "plt.figure(figsize=(10, 6))\n",
    "top_genre_jp.plot(kind='bar', color='skyblue')\n",
    "plt.title('Top 5 Géneros por Ventas en Jp')\n",
    "plt.xlabel('Género')\n",
    "plt.ylabel('Ventas en JP (en millones)')\n",
    "plt.xticks(rotation=45)\n",
    "plt.show()"
   ]
  },
  {
   "cell_type": "code",
   "execution_count": 29,
   "metadata": {
    "scrolled": true,
    "trusted": true
   },
   "outputs": [
    {
     "name": "stdout",
     "output_type": "stream",
     "text": [
      "Top 5 géneros por ventas en other_sales:\n",
      "genre\n",
      "Action     27\n",
      "Sports     27\n",
      "Racing     17\n",
      "Shooter    17\n",
      "Misc       10\n",
      "Name: other_sales, dtype: int64\n"
     ]
    },
    {
     "data": {
      "image/png": "[encoded data removed]",
      "text/plain": [
       "<Figure size 1000x600 with 1 Axes>"
      ]
     },
     "metadata": {},
     "output_type": "display_data"
    }
   ],
   "source": [
    "\n",
    "# Encontrar los cinco principales géneros por ventas en others_sales\n",
    "top_genre_other = data_games.groupby('genre')['other_sales'].sum().nlargest(5)\n",
    "\n",
    "print(\"Top 5 géneros por ventas en other_sales:\")\n",
    "print(top_genre_other)\n",
    "\n",
    "# Crear un gráfico de barras para las ventas en other por género\n",
    "plt.figure(figsize=(10, 6))\n",
    "top_genre_other.plot(kind='bar', color='skyblue')\n",
    "plt.title('Top 5 Géneros por Ventas en Other')\n",
    "plt.xlabel('Género')\n",
    "plt.ylabel('Ventas en NA (en millones)')\n",
    "plt.xticks(rotation=45)\n",
    "plt.show()"
   ]
  },
  {
   "cell_type": "markdown",
   "metadata": {},
   "source": [
    "De forma general se puede observar que el género más predominante es el de acción\n",
    "Ya dividido por área, se puede encontrar que la plataforma más popular en EUA es x360, en segundo lugar, wii; en temas de ventas se visualiza que el género más popular es Shoter;\n",
    "para el caso de Europa la plataforma más popular es wii, el segundo lugar es PS3; en el tema de ventas, el género más consumido es acción.\n",
    "Para Japón para la plataforma que es más popular es DS, el segundo lugar NES, en ventas el género más popular es Role-playing."
   ]
  },
  {
   "cell_type": "code",
   "execution_count": 30,
   "metadata": {
    "scrolled": true,
    "trusted": true
   },
   "outputs": [
    {
     "name": "stdout",
     "output_type": "stream",
     "text": [
      "rating\n",
      "0       578\n",
      "E       505\n",
      "M       382\n",
      "T       224\n",
      "E10+     84\n",
      "Name: na_sales, dtype: int64\n",
      "rating\n",
      "E       304\n",
      "0       197\n",
      "M       197\n",
      "T       107\n",
      "E10+     36\n",
      "Name: eu_sales, dtype: int64\n",
      "rating\n",
      "0       260\n",
      "E        92\n",
      "T        38\n",
      "E10+     10\n",
      "M         7\n",
      "Name: jp_sales, dtype: int64\n"
     ]
    }
   ],
   "source": [
    "#Si las clasificaciones de ESRB afectan a las ventas en regiones individuales.\n",
    "ESRB_sales_na = data_games.groupby('rating')['na_sales'].sum().nlargest(5)\n",
    "ESRB_sales_eu = data_games.groupby('rating')['eu_sales'].sum().nlargest(5)\n",
    "ESRB_sales_jp = data_games.groupby('rating')['jp_sales'].sum().nlargest(5)\n",
    "\n",
    "print(ESRB_sales_na)\n",
    "print(ESRB_sales_eu)\n",
    "print(ESRB_sales_jp)"
   ]
  },
  {
   "cell_type": "markdown",
   "metadata": {},
   "source": [
    "Se puede observar que por región todos los juegos en clasificación \"everyone\" son más consumidos, en segundo lugar la clasificación \"mature\" es el segundo consumido en NA y en EU, sin embargo en Japón se puede observar que la segunda es la clasificación \"teen\", la menor clasificación consumida en NA y EU es: \"everyone 10+\"\n"
   ]
  },
  {
   "cell_type": "markdown",
   "metadata": {},
   "source": [
    "PRUEBA DE HIPOTESIS"
   ]
  },
  {
   "cell_type": "code",
   "execution_count": 32,
   "metadata": {
    "scrolled": false,
    "trusted": true
   },
   "outputs": [
    {
     "name": "stdout",
     "output_type": "stream",
     "text": [
      "Estadístico t: -2.1946812680792402\n",
      "Valor p: 0.028801605405159414\n",
      "Rechazamos la hipótesis nula: hay una diferencia significativa entre las calificaciones promedio de Xbox One y PC.\n"
     ]
    }
   ],
   "source": [
    "# Las calificaciones promedio de los usuarios para las plataformas Xbox One y PC son las mismas.\n",
    "import pandas as pd\n",
    "from scipy import stats\n",
    "\n",
    "# Filtrar los datos para las dos plataformas\n",
    "xbox_one_scores = data_games[data_games['platform'] == 'XOne']['critic_score']\n",
    "pc_scores = data_games[data_games['platform'] == 'PC']['critic_score']\n",
    "\n",
    "# Realizar una prueba t de dos muestras independientes\n",
    "t_stat, p_value = stats.ttest_ind(xbox_one_scores, pc_scores, equal_var=False)  # equal_var=False es para Welch's t-test\n",
    "\n",
    "# Imprimir los resultados\n",
    "print(f\"Estadístico t: {t_stat}\")\n",
    "print(f\"Valor p: {p_value}\")\n",
    "\n",
    "# Interpretar el valor p\n",
    "alpha = 0.05  # Nivel de significancia\n",
    "if p_value < alpha:\n",
    "    print(\"Rechazamos la hipótesis nula: hay una diferencia significativa entre las calificaciones promedio de Xbox One y PC.\")\n",
    "else:\n",
    "    print(\"No rechazamos la hipótesis nula: no hay evidencia suficiente para decir que las calificaciones promedio de Xbox One y PC son diferentes.\")"
   ]
  },
  {
   "cell_type": "code",
   "execution_count": 33,
   "metadata": {
    "trusted": true
   },
   "outputs": [
    {
     "name": "stdout",
     "output_type": "stream",
     "text": [
      "Estadístico t: 0.8013290181979988\n",
      "Valor p: 0.4229807447766385\n",
      "No rechazamos la hipótesis nula: no hay evidencia suficiente para decir que las calificaciones promedio del género acción y deportes son diferentes.\n"
     ]
    }
   ],
   "source": [
    "#Las calificaciones promedio de los usuarios para los géneros de Acción y Deportes son diferentes.\n",
    "import pandas as pd\n",
    "from scipy import stats\n",
    "\n",
    "# Filtrar los datos para las dos plataformas\n",
    "critic_score_Action = data_games[data_games['genre'] == 'Action'][\"critic_score\"]\n",
    "critic_score_Sports = data_games[data_games['genre'] == \"Sports\"]['critic_score']\n",
    "\n",
    "# Realizar una prueba t de dos muestras independientes\n",
    "t_stat, p_value = stats.ttest_ind(critic_score_Action, critic_score_Sports, equal_var=False)  # equal_var=False es para Welch's t-test\n",
    "\n",
    "# Imprimir los resultados\n",
    "print(f\"Estadístico t: {t_stat}\")\n",
    "print(f\"Valor p: {p_value}\")\n",
    "\n",
    "# Interpretar el valor p\n",
    "alpha = 0.05  # Nivel de significancia\n",
    "if p_value < alpha:\n",
    "    print(\"Rechazamos la hipótesis nula: hay una diferencia significativa entre las calificaciones promedio del género acción y deportes\")\n",
    "else:\n",
    "    print(\"No rechazamos la hipótesis nula: no hay evidencia suficiente para decir que las calificaciones promedio del género acción y deportes son diferentes.\")"
   ]
  },
  {
   "cell_type": "markdown",
   "metadata": {},
   "source": [
    "Explicación de como se formulo la hipotesis nula y la alternativa, se hizo una hipótesis sobre igualdad de media de poblaciones, ya que se hicieron comparaciones sobre dos columnas, en el primer caso, se hizo la comparación sobre la columna, platform y critic_score, para xone y pc, en el segundo caso se hizo la comparación entre las columnas de género y critic_score para visualizar si hay una diferencia entre una y otra."
   ]
  },
  {
   "cell_type": "markdown",
   "metadata": {},
   "source": [
    "CONCLUSIONES DEL PROYECTO:\n",
    "    Se puede llegar a la conclusión que las plataformas que siguen en vanguardia son Xone y PC, adicional de WII, hay una relación entre las calificaciones de ESRB de Estados Unidos y Europa ya que los que son juegos clasificados como \"everyone\" son los que son más consumidos en cada país, en Estados Unidos el género más consumido es \"shotter\" y en Europa es \"Action\", aunque las calificaciones para acción y deportes son iguales por la crítica.\n",
    "   \n",
    "    "
   ]
  }
 ],
 "metadata": {
  "ExecuteTimeLog": [
   {
    "duration": 2458,
    "start_time": "2024-09-01T18:39:27.277Z"
   },
   {
    "duration": 6,
    "start_time": "2024-09-01T18:39:30.450Z"
   },
   {
    "duration": 554,
    "start_time": "2024-09-01T18:39:39.598Z"
   },
   {
    "duration": 40,
    "start_time": "2024-09-01T18:40:36.430Z"
   },
   {
    "duration": 22,
    "start_time": "2024-09-01T18:40:41.497Z"
   },
   {
    "duration": 11,
    "start_time": "2024-09-01T18:41:12.350Z"
   },
   {
    "duration": 26,
    "start_time": "2024-09-01T18:41:57.863Z"
   },
   {
    "duration": 4,
    "start_time": "2024-09-01T19:16:02.718Z"
   },
   {
    "duration": 14,
    "start_time": "2024-09-01T19:16:20.479Z"
   },
   {
    "duration": 13,
    "start_time": "2024-09-01T19:17:07.300Z"
   },
   {
    "duration": 14,
    "start_time": "2024-09-01T19:17:32.607Z"
   },
   {
    "duration": 3,
    "start_time": "2024-09-01T19:18:03.522Z"
   },
   {
    "duration": 6,
    "start_time": "2024-09-01T19:33:43.213Z"
   },
   {
    "duration": 13,
    "start_time": "2024-09-01T19:38:38.059Z"
   },
   {
    "duration": 15,
    "start_time": "2024-09-01T19:38:52.555Z"
   },
   {
    "duration": 14,
    "start_time": "2024-09-01T19:39:42.992Z"
   },
   {
    "duration": 13,
    "start_time": "2024-09-01T19:41:58.404Z"
   },
   {
    "duration": 13,
    "start_time": "2024-09-01T19:47:51.589Z"
   },
   {
    "duration": 3,
    "start_time": "2024-09-01T19:49:51.654Z"
   },
   {
    "duration": 12,
    "start_time": "2024-09-01T19:52:45.922Z"
   },
   {
    "duration": 153,
    "start_time": "2024-09-01T19:53:06.544Z"
   },
   {
    "duration": 728,
    "start_time": "2024-09-01T19:53:16.452Z"
   },
   {
    "duration": 23,
    "start_time": "2024-09-01T19:53:20.185Z"
   },
   {
    "duration": 14,
    "start_time": "2024-09-01T19:53:22.869Z"
   },
   {
    "duration": 68,
    "start_time": "2024-09-01T19:53:26.171Z"
   },
   {
    "duration": 17,
    "start_time": "2024-09-01T19:53:40.430Z"
   },
   {
    "duration": 4,
    "start_time": "2024-09-01T19:56:28.478Z"
   },
   {
    "duration": 15,
    "start_time": "2024-09-01T19:56:37.603Z"
   },
   {
    "duration": 15,
    "start_time": "2024-09-01T19:56:50.105Z"
   },
   {
    "duration": 3,
    "start_time": "2024-09-01T19:57:02.022Z"
   },
   {
    "duration": 16,
    "start_time": "2024-09-01T19:57:34.923Z"
   },
   {
    "duration": 12,
    "start_time": "2024-09-01T19:57:54.039Z"
   },
   {
    "duration": 14,
    "start_time": "2024-09-01T19:58:04.872Z"
   },
   {
    "duration": 14,
    "start_time": "2024-09-01T19:58:19.928Z"
   },
   {
    "duration": 4,
    "start_time": "2024-09-01T19:58:51.365Z"
   },
   {
    "duration": 3,
    "start_time": "2024-09-01T19:59:36.629Z"
   },
   {
    "duration": 4,
    "start_time": "2024-09-01T19:59:39.936Z"
   },
   {
    "duration": 3,
    "start_time": "2024-09-01T20:00:13.840Z"
   },
   {
    "duration": 4,
    "start_time": "2024-09-01T20:00:18.825Z"
   },
   {
    "duration": 737,
    "start_time": "2024-09-01T20:00:46.931Z"
   },
   {
    "duration": 23,
    "start_time": "2024-09-01T20:00:47.670Z"
   },
   {
    "duration": 10,
    "start_time": "2024-09-01T20:00:47.695Z"
   },
   {
    "duration": 36,
    "start_time": "2024-09-01T20:00:47.707Z"
   },
   {
    "duration": 222,
    "start_time": "2024-09-01T20:00:47.745Z"
   },
   {
    "duration": 0,
    "start_time": "2024-09-01T20:00:47.968Z"
   },
   {
    "duration": 0,
    "start_time": "2024-09-01T20:00:47.970Z"
   },
   {
    "duration": 3,
    "start_time": "2024-09-01T20:00:52.164Z"
   },
   {
    "duration": 27,
    "start_time": "2024-09-01T20:00:53.847Z"
   },
   {
    "duration": 22,
    "start_time": "2024-09-01T20:00:57.774Z"
   },
   {
    "duration": 11,
    "start_time": "2024-09-01T20:01:00.735Z"
   },
   {
    "duration": 15,
    "start_time": "2024-09-01T20:01:01.849Z"
   },
   {
    "duration": 14,
    "start_time": "2024-09-01T20:01:08.674Z"
   },
   {
    "duration": 13,
    "start_time": "2024-09-01T20:01:17.980Z"
   },
   {
    "duration": 13,
    "start_time": "2024-09-01T20:01:25.745Z"
   },
   {
    "duration": 13,
    "start_time": "2024-09-01T20:01:37.104Z"
   },
   {
    "duration": 3,
    "start_time": "2024-09-01T20:03:05.515Z"
   },
   {
    "duration": 12,
    "start_time": "2024-09-01T20:03:19.256Z"
   },
   {
    "duration": 19,
    "start_time": "2024-09-01T20:12:24.158Z"
   },
   {
    "duration": 13,
    "start_time": "2024-09-01T20:13:51.091Z"
   },
   {
    "duration": 22,
    "start_time": "2024-09-01T20:16:06.036Z"
   },
   {
    "duration": 11,
    "start_time": "2024-09-01T20:16:10.908Z"
   },
   {
    "duration": 4,
    "start_time": "2024-09-01T20:16:15.958Z"
   },
   {
    "duration": 55,
    "start_time": "2024-09-01T20:16:19.765Z"
   },
   {
    "duration": 13,
    "start_time": "2024-09-01T20:17:29.274Z"
   },
   {
    "duration": 12,
    "start_time": "2024-09-01T20:20:25.539Z"
   },
   {
    "duration": 4,
    "start_time": "2024-09-01T20:20:34.093Z"
   },
   {
    "duration": 742,
    "start_time": "2024-09-01T20:20:46.833Z"
   },
   {
    "duration": 23,
    "start_time": "2024-09-01T20:20:47.577Z"
   },
   {
    "duration": 11,
    "start_time": "2024-09-01T20:20:47.602Z"
   },
   {
    "duration": 19,
    "start_time": "2024-09-01T20:20:47.624Z"
   },
   {
    "duration": 3,
    "start_time": "2024-09-01T20:20:47.645Z"
   },
   {
    "duration": 235,
    "start_time": "2024-09-01T20:20:47.650Z"
   },
   {
    "duration": 0,
    "start_time": "2024-09-01T20:20:47.886Z"
   },
   {
    "duration": 4,
    "start_time": "2024-09-01T20:21:05.890Z"
   },
   {
    "duration": 13,
    "start_time": "2024-09-01T20:22:29.252Z"
   },
   {
    "duration": 700,
    "start_time": "2024-09-01T20:26:11.202Z"
   },
   {
    "duration": 23,
    "start_time": "2024-09-01T20:26:11.905Z"
   },
   {
    "duration": 11,
    "start_time": "2024-09-01T20:26:11.930Z"
   },
   {
    "duration": 17,
    "start_time": "2024-09-01T20:26:11.943Z"
   },
   {
    "duration": 4,
    "start_time": "2024-09-01T20:26:11.962Z"
   },
   {
    "duration": 0,
    "start_time": "2024-09-01T20:26:11.968Z"
   },
   {
    "duration": 0,
    "start_time": "2024-09-01T20:26:11.969Z"
   },
   {
    "duration": 10,
    "start_time": "2024-09-01T20:26:16.399Z"
   },
   {
    "duration": 6,
    "start_time": "2024-09-01T20:26:40.536Z"
   },
   {
    "duration": 613,
    "start_time": "2024-09-01T20:33:57.234Z"
   },
   {
    "duration": 5,
    "start_time": "2024-09-01T20:34:13.708Z"
   },
   {
    "duration": 6,
    "start_time": "2024-09-01T20:34:27.684Z"
   },
   {
    "duration": 7,
    "start_time": "2024-09-01T20:35:09.293Z"
   },
   {
    "duration": 6,
    "start_time": "2024-09-01T20:35:44.104Z"
   },
   {
    "duration": 7,
    "start_time": "2024-09-01T20:35:47.701Z"
   },
   {
    "duration": 2605,
    "start_time": "2024-09-01T23:36:17.590Z"
   },
   {
    "duration": 40,
    "start_time": "2024-09-01T23:36:20.198Z"
   },
   {
    "duration": 12,
    "start_time": "2024-09-01T23:36:20.239Z"
   },
   {
    "duration": 18,
    "start_time": "2024-09-01T23:36:20.253Z"
   },
   {
    "duration": 7,
    "start_time": "2024-09-01T23:36:20.273Z"
   },
   {
    "duration": 6,
    "start_time": "2024-09-01T23:36:20.282Z"
   },
   {
    "duration": 26,
    "start_time": "2024-09-01T23:36:20.290Z"
   },
   {
    "duration": 6,
    "start_time": "2024-09-01T23:36:20.318Z"
   },
   {
    "duration": 0,
    "start_time": "2024-09-01T23:36:20.325Z"
   },
   {
    "duration": 0,
    "start_time": "2024-09-01T23:36:20.327Z"
   },
   {
    "duration": 2,
    "start_time": "2024-09-01T23:36:20.601Z"
   },
   {
    "duration": 11,
    "start_time": "2024-09-01T23:37:31.234Z"
   },
   {
    "duration": 217,
    "start_time": "2024-09-01T23:40:24.959Z"
   },
   {
    "duration": 16,
    "start_time": "2024-09-01T23:42:03.397Z"
   },
   {
    "duration": 342,
    "start_time": "2024-09-01T23:43:31.662Z"
   },
   {
    "duration": 38,
    "start_time": "2024-09-01T23:44:15.268Z"
   },
   {
    "duration": 13,
    "start_time": "2024-09-02T00:11:12.276Z"
   },
   {
    "duration": 3,
    "start_time": "2024-09-02T00:11:34.745Z"
   },
   {
    "duration": 17,
    "start_time": "2024-09-02T00:12:15.036Z"
   },
   {
    "duration": 434,
    "start_time": "2024-09-02T00:12:34.226Z"
   },
   {
    "duration": 9,
    "start_time": "2024-09-02T00:13:37.717Z"
   },
   {
    "duration": 46,
    "start_time": "2024-09-02T00:19:04.379Z"
   },
   {
    "duration": 433,
    "start_time": "2024-09-02T00:19:32.711Z"
   },
   {
    "duration": 10,
    "start_time": "2024-09-02T00:20:05.676Z"
   },
   {
    "duration": 42,
    "start_time": "2024-09-02T00:29:12.716Z"
   },
   {
    "duration": 39,
    "start_time": "2024-09-02T00:29:36.259Z"
   },
   {
    "duration": 42,
    "start_time": "2024-09-02T00:29:46.686Z"
   },
   {
    "duration": 5,
    "start_time": "2024-09-02T00:32:40.156Z"
   },
   {
    "duration": 6,
    "start_time": "2024-09-02T01:14:04.319Z"
   },
   {
    "duration": 5,
    "start_time": "2024-09-02T01:14:25.485Z"
   },
   {
    "duration": 17,
    "start_time": "2024-09-02T01:22:42.242Z"
   },
   {
    "duration": 344,
    "start_time": "2024-09-02T01:23:01.773Z"
   },
   {
    "duration": 124,
    "start_time": "2024-09-02T01:25:07.978Z"
   },
   {
    "duration": 84,
    "start_time": "2024-09-02T01:32:49.742Z"
   },
   {
    "duration": 450,
    "start_time": "2024-09-02T01:35:55.524Z"
   },
   {
    "duration": 39,
    "start_time": "2024-09-02T01:45:30.155Z"
   },
   {
    "duration": 46,
    "start_time": "2024-09-02T01:48:19.536Z"
   },
   {
    "duration": 137,
    "start_time": "2024-09-02T01:53:58.098Z"
   },
   {
    "duration": 85,
    "start_time": "2024-09-02T01:54:47.304Z"
   },
   {
    "duration": 82,
    "start_time": "2024-09-02T01:55:00.327Z"
   },
   {
    "duration": 240,
    "start_time": "2024-09-02T02:06:32.594Z"
   },
   {
    "duration": 230,
    "start_time": "2024-09-02T02:13:59.883Z"
   },
   {
    "duration": 15,
    "start_time": "2024-09-02T02:30:43.089Z"
   },
   {
    "duration": 4,
    "start_time": "2024-09-02T03:16:15.729Z"
   },
   {
    "duration": 4,
    "start_time": "2024-09-02T03:17:02.927Z"
   },
   {
    "duration": 23,
    "start_time": "2024-09-02T03:20:00.703Z"
   },
   {
    "duration": 12,
    "start_time": "2024-09-02T03:21:47.855Z"
   },
   {
    "duration": 10,
    "start_time": "2024-09-02T03:25:24.286Z"
   },
   {
    "duration": 11,
    "start_time": "2024-09-02T03:29:51.455Z"
   },
   {
    "duration": 19,
    "start_time": "2024-09-02T03:38:19.286Z"
   },
   {
    "duration": 18,
    "start_time": "2024-09-02T03:38:38.427Z"
   },
   {
    "duration": 52,
    "start_time": "2024-09-02T03:39:34.353Z"
   },
   {
    "duration": 47,
    "start_time": "2024-09-02T03:40:56.032Z"
   },
   {
    "duration": 15,
    "start_time": "2024-09-02T03:43:03.565Z"
   },
   {
    "duration": 3,
    "start_time": "2024-09-02T03:43:11.746Z"
   },
   {
    "duration": 6,
    "start_time": "2024-09-02T03:43:37.691Z"
   },
   {
    "duration": 6,
    "start_time": "2024-09-02T03:44:14.797Z"
   },
   {
    "duration": 17,
    "start_time": "2024-09-02T04:08:19.233Z"
   },
   {
    "duration": 764,
    "start_time": "2024-09-02T04:08:37.442Z"
   },
   {
    "duration": 375,
    "start_time": "2024-09-02T04:13:11.294Z"
   },
   {
    "duration": 45,
    "start_time": "2024-09-02T04:34:38.293Z"
   },
   {
    "duration": 9,
    "start_time": "2024-09-02T04:36:19.167Z"
   },
   {
    "duration": 119,
    "start_time": "2024-09-02T04:39:15.008Z"
   },
   {
    "duration": 10,
    "start_time": "2024-09-02T04:40:55.479Z"
   },
   {
    "duration": 133,
    "start_time": "2024-09-02T04:41:03.223Z"
   },
   {
    "duration": 44,
    "start_time": "2024-09-02T04:47:05.704Z"
   },
   {
    "duration": 346,
    "start_time": "2024-09-02T04:50:24.159Z"
   },
   {
    "duration": 158,
    "start_time": "2024-09-02T04:52:58.092Z"
   },
   {
    "duration": 47,
    "start_time": "2024-09-02T04:59:42.749Z"
   },
   {
    "duration": 46,
    "start_time": "2024-09-02T05:00:18.965Z"
   },
   {
    "duration": 7,
    "start_time": "2024-09-02T05:01:33.941Z"
   },
   {
    "duration": 17,
    "start_time": "2024-09-02T05:03:07.398Z"
   },
   {
    "duration": 14,
    "start_time": "2024-09-02T05:03:27.806Z"
   },
   {
    "duration": 4249,
    "start_time": "2024-09-02T05:05:57.789Z"
   },
   {
    "duration": 183,
    "start_time": "2024-09-02T05:21:08.662Z"
   },
   {
    "duration": 19,
    "start_time": "2024-09-02T05:31:50.633Z"
   },
   {
    "duration": 19,
    "start_time": "2024-09-02T05:36:39.686Z"
   },
   {
    "duration": 276,
    "start_time": "2024-09-02T05:37:06.066Z"
   },
   {
    "duration": 2716,
    "start_time": "2024-09-07T18:29:18.961Z"
   },
   {
    "duration": 54,
    "start_time": "2024-09-07T18:29:21.679Z"
   },
   {
    "duration": 11,
    "start_time": "2024-09-07T18:29:21.735Z"
   },
   {
    "duration": 16,
    "start_time": "2024-09-07T18:29:21.748Z"
   },
   {
    "duration": 6,
    "start_time": "2024-09-07T18:29:21.766Z"
   },
   {
    "duration": 6,
    "start_time": "2024-09-07T18:29:21.773Z"
   },
   {
    "duration": 6,
    "start_time": "2024-09-07T18:29:21.780Z"
   },
   {
    "duration": 22,
    "start_time": "2024-09-07T18:29:21.790Z"
   },
   {
    "duration": 4,
    "start_time": "2024-09-07T18:29:21.814Z"
   },
   {
    "duration": 15,
    "start_time": "2024-09-07T18:29:21.821Z"
   },
   {
    "duration": 10,
    "start_time": "2024-09-07T18:29:21.838Z"
   },
   {
    "duration": 4,
    "start_time": "2024-09-07T18:29:21.849Z"
   },
   {
    "duration": 33,
    "start_time": "2024-09-07T18:29:21.855Z"
   },
   {
    "duration": 4,
    "start_time": "2024-09-07T18:29:21.890Z"
   },
   {
    "duration": 512,
    "start_time": "2024-09-07T18:29:21.896Z"
   },
   {
    "duration": 0,
    "start_time": "2024-09-07T18:29:22.410Z"
   },
   {
    "duration": 0,
    "start_time": "2024-09-07T18:29:22.412Z"
   },
   {
    "duration": 0,
    "start_time": "2024-09-07T18:29:22.413Z"
   },
   {
    "duration": 0,
    "start_time": "2024-09-07T18:29:22.414Z"
   },
   {
    "duration": 0,
    "start_time": "2024-09-07T18:29:22.415Z"
   },
   {
    "duration": 0,
    "start_time": "2024-09-07T18:29:22.416Z"
   },
   {
    "duration": 0,
    "start_time": "2024-09-07T18:29:22.416Z"
   },
   {
    "duration": 0,
    "start_time": "2024-09-07T18:29:22.417Z"
   },
   {
    "duration": 0,
    "start_time": "2024-09-07T18:29:22.418Z"
   },
   {
    "duration": 13,
    "start_time": "2024-09-07T18:29:30.006Z"
   },
   {
    "duration": 190,
    "start_time": "2024-09-07T18:33:05.586Z"
   },
   {
    "duration": 11,
    "start_time": "2024-09-07T18:34:59.623Z"
   },
   {
    "duration": 7,
    "start_time": "2024-09-07T18:35:11.652Z"
   },
   {
    "duration": 9,
    "start_time": "2024-09-07T18:37:15.133Z"
   },
   {
    "duration": 137,
    "start_time": "2024-09-07T18:39:43.073Z"
   },
   {
    "duration": 10,
    "start_time": "2024-09-07T18:40:10.197Z"
   },
   {
    "duration": 7,
    "start_time": "2024-09-07T18:43:02.677Z"
   },
   {
    "duration": 3969,
    "start_time": "2024-09-07T18:43:09.259Z"
   },
   {
    "duration": 207,
    "start_time": "2024-09-07T18:43:27.667Z"
   },
   {
    "duration": 19,
    "start_time": "2024-09-07T18:43:56.983Z"
   },
   {
    "duration": 267,
    "start_time": "2024-09-07T18:44:05.206Z"
   },
   {
    "duration": 121,
    "start_time": "2024-09-07T18:49:44.993Z"
   },
   {
    "duration": 21,
    "start_time": "2024-09-07T18:51:19.361Z"
   },
   {
    "duration": 129,
    "start_time": "2024-09-07T18:51:34.713Z"
   },
   {
    "duration": 128,
    "start_time": "2024-09-07T18:53:36.847Z"
   },
   {
    "duration": 115,
    "start_time": "2024-09-07T18:57:21.542Z"
   },
   {
    "duration": 118,
    "start_time": "2024-09-07T19:01:09.729Z"
   },
   {
    "duration": 129,
    "start_time": "2024-09-07T19:01:23.449Z"
   },
   {
    "duration": 159,
    "start_time": "2024-09-08T05:02:05.699Z"
   },
   {
    "duration": 2445,
    "start_time": "2024-09-08T05:02:16.169Z"
   },
   {
    "duration": 48,
    "start_time": "2024-09-08T05:02:18.616Z"
   },
   {
    "duration": 12,
    "start_time": "2024-09-08T05:02:18.665Z"
   },
   {
    "duration": 17,
    "start_time": "2024-09-08T05:02:18.680Z"
   },
   {
    "duration": 7,
    "start_time": "2024-09-08T05:02:18.698Z"
   },
   {
    "duration": 6,
    "start_time": "2024-09-08T05:02:18.706Z"
   },
   {
    "duration": 13,
    "start_time": "2024-09-08T05:02:18.713Z"
   },
   {
    "duration": 11,
    "start_time": "2024-09-08T05:02:18.727Z"
   },
   {
    "duration": 3,
    "start_time": "2024-09-08T05:02:18.740Z"
   },
   {
    "duration": 14,
    "start_time": "2024-09-08T05:02:18.747Z"
   },
   {
    "duration": 10,
    "start_time": "2024-09-08T05:02:18.763Z"
   },
   {
    "duration": 5,
    "start_time": "2024-09-08T05:02:18.774Z"
   },
   {
    "duration": 51,
    "start_time": "2024-09-08T05:02:18.781Z"
   },
   {
    "duration": 4,
    "start_time": "2024-09-08T05:02:18.834Z"
   },
   {
    "duration": 171,
    "start_time": "2024-09-08T05:02:18.840Z"
   },
   {
    "duration": 15,
    "start_time": "2024-09-08T05:02:19.013Z"
   },
   {
    "duration": 8,
    "start_time": "2024-09-08T05:02:19.029Z"
   },
   {
    "duration": 136,
    "start_time": "2024-09-08T05:02:19.039Z"
   },
   {
    "duration": 10,
    "start_time": "2024-09-08T05:02:19.176Z"
   },
   {
    "duration": 9,
    "start_time": "2024-09-08T05:02:19.187Z"
   },
   {
    "duration": 3900,
    "start_time": "2024-09-08T05:02:19.197Z"
   },
   {
    "duration": 166,
    "start_time": "2024-09-08T05:02:23.099Z"
   },
   {
    "duration": 195,
    "start_time": "2024-09-08T05:02:23.267Z"
   },
   {
    "duration": 129,
    "start_time": "2024-09-08T05:02:23.464Z"
   },
   {
    "duration": 136,
    "start_time": "2024-09-08T05:02:23.595Z"
   },
   {
    "duration": 142,
    "start_time": "2024-09-08T05:02:23.733Z"
   },
   {
    "duration": 124,
    "start_time": "2024-09-08T05:02:23.877Z"
   },
   {
    "duration": 120,
    "start_time": "2024-09-08T05:02:24.005Z"
   },
   {
    "duration": 112,
    "start_time": "2024-09-08T05:04:22.835Z"
   },
   {
    "duration": 116,
    "start_time": "2024-09-08T05:04:58.452Z"
   },
   {
    "duration": 133,
    "start_time": "2024-09-08T05:07:00.391Z"
   },
   {
    "duration": 112,
    "start_time": "2024-09-08T05:07:45.398Z"
   },
   {
    "duration": 127,
    "start_time": "2024-09-08T05:40:04.570Z"
   },
   {
    "duration": 9,
    "start_time": "2024-09-08T05:46:13.873Z"
   },
   {
    "duration": 2409,
    "start_time": "2024-09-08T16:33:02.614Z"
   },
   {
    "duration": 42,
    "start_time": "2024-09-08T16:33:05.025Z"
   },
   {
    "duration": 12,
    "start_time": "2024-09-08T16:33:05.069Z"
   },
   {
    "duration": 17,
    "start_time": "2024-09-08T16:33:05.083Z"
   },
   {
    "duration": 6,
    "start_time": "2024-09-08T16:33:05.103Z"
   },
   {
    "duration": 6,
    "start_time": "2024-09-08T16:33:05.111Z"
   },
   {
    "duration": 27,
    "start_time": "2024-09-08T16:33:05.119Z"
   },
   {
    "duration": 11,
    "start_time": "2024-09-08T16:33:05.148Z"
   },
   {
    "duration": 4,
    "start_time": "2024-09-08T16:33:05.160Z"
   },
   {
    "duration": 20,
    "start_time": "2024-09-08T16:33:05.165Z"
   },
   {
    "duration": 13,
    "start_time": "2024-09-08T16:33:05.187Z"
   },
   {
    "duration": 5,
    "start_time": "2024-09-08T16:33:05.201Z"
   },
   {
    "duration": 13,
    "start_time": "2024-09-08T16:33:05.243Z"
   },
   {
    "duration": 5,
    "start_time": "2024-09-08T16:33:05.260Z"
   },
   {
    "duration": 181,
    "start_time": "2024-09-08T16:33:05.266Z"
   },
   {
    "duration": 18,
    "start_time": "2024-09-08T16:33:05.449Z"
   },
   {
    "duration": 8,
    "start_time": "2024-09-08T16:33:05.469Z"
   },
   {
    "duration": 144,
    "start_time": "2024-09-08T16:33:05.479Z"
   },
   {
    "duration": 10,
    "start_time": "2024-09-08T16:33:05.625Z"
   },
   {
    "duration": 7,
    "start_time": "2024-09-08T16:33:05.643Z"
   },
   {
    "duration": 3847,
    "start_time": "2024-09-08T16:33:05.652Z"
   },
   {
    "duration": 171,
    "start_time": "2024-09-08T16:33:09.501Z"
   },
   {
    "duration": 206,
    "start_time": "2024-09-08T16:33:09.674Z"
   },
   {
    "duration": 127,
    "start_time": "2024-09-08T16:33:09.881Z"
   },
   {
    "duration": 134,
    "start_time": "2024-09-08T16:33:10.010Z"
   },
   {
    "duration": 135,
    "start_time": "2024-09-08T16:33:10.146Z"
   },
   {
    "duration": 121,
    "start_time": "2024-09-08T16:33:10.284Z"
   },
   {
    "duration": 155,
    "start_time": "2024-09-08T16:33:10.407Z"
   },
   {
    "duration": 132,
    "start_time": "2024-09-08T16:33:10.565Z"
   },
   {
    "duration": 10,
    "start_time": "2024-09-08T16:33:10.698Z"
   },
   {
    "duration": 223,
    "start_time": "2024-09-08T16:51:43.453Z"
   },
   {
    "duration": 8,
    "start_time": "2024-09-08T16:53:39.241Z"
   },
   {
    "duration": 8,
    "start_time": "2024-09-08T17:16:41.460Z"
   }
  ],
  "kernelspec": {
   "display_name": "Python 3 (ipykernel)",
   "language": "python",
   "name": "python3"
  },
  "language_info": {
   "codemirror_mode": {
    "name": "ipython",
    "version": 3
   },
   "file_extension": ".py",
   "mimetype": "text/x-python",
   "name": "python",
   "nbconvert_exporter": "python",
   "pygments_lexer": "ipython3",
   "version": "3.9.19"
  },
  "toc": {
   "base_numbering": 1,
   "nav_menu": {},
   "number_sections": true,
   "sideBar": true,
   "skip_h1_title": true,
   "title_cell": "Table of Contents",
   "title_sidebar": "Contents",
   "toc_cell": false,
   "toc_position": {},
   "toc_section_display": true,
   "toc_window_display": false
  }
 },
 "nbformat": 4,
 "nbformat_minor": 2
}
